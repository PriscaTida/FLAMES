{
 "cells": [
  {
   "cell_type": "code",
   "execution_count": 11,
   "id": "bea4619d",
   "metadata": {},
   "outputs": [
    {
     "name": "stdout",
     "output_type": "stream",
     "text": [
      "['F']\n"
     ]
    }
   ],
   "source": [
    "def common_count(A,B):\n",
    "    A1 = \"\"\n",
    "    B1 = \"\"\n",
    "\n",
    "    for i in A:\n",
    "        if i not in B:\n",
    "            A1 = A1+i\n",
    "\n",
    "    for i in B:\n",
    "        if i not in A:\n",
    "            B1 = B1+i\n",
    "\n",
    "    count = len(A+B) - len(A1+B1)\n",
    "    return count\n",
    "\n",
    "def remove(C):\n",
    "    while len(C) > 1 : \n",
    "        count = common_count(A,B)\n",
    "        index = (count % len(C) - 1) \n",
    "        \n",
    "        if (index>=0) :\n",
    "            right = C[index + 1 : ]\n",
    "            left = C[ : index] \n",
    "            C = right + left\n",
    "        else : \n",
    "            C = C[:len(C) - 1] \n",
    "    print(C)\n",
    "    \n",
    "    \n",
    "A = \"AJAY\"\n",
    "B = \"PRIYA\"\n",
    "C = [\"F\", \"L\", \"A\", \"M\", \"E\", \"S\"]\n",
    "remove(C)"
   ]
  },
  {
   "cell_type": "code",
   "execution_count": null,
   "id": "24ae0a85",
   "metadata": {},
   "outputs": [],
   "source": []
  }
 ],
 "metadata": {
  "kernelspec": {
   "display_name": "Python 3 (ipykernel)",
   "language": "python",
   "name": "python3"
  },
  "language_info": {
   "codemirror_mode": {
    "name": "ipython",
    "version": 3
   },
   "file_extension": ".py",
   "mimetype": "text/x-python",
   "name": "python",
   "nbconvert_exporter": "python",
   "pygments_lexer": "ipython3",
   "version": "3.9.12"
  }
 },
 "nbformat": 4,
 "nbformat_minor": 5
}
